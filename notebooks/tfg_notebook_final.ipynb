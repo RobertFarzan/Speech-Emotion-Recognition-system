{
  "nbformat": 4,
  "nbformat_minor": 0,
  "metadata": {
    "accelerator": "GPU",
    "colab": {
      "name": "tfg-notebook-final.ipynb",
      "provenance": [],
      "collapsed_sections": []
    },
    "kernelspec": {
      "display_name": "Python 3",
      "language": "python",
      "name": "python3"
    },
    "language_info": {
      "codemirror_mode": {
        "name": "ipython",
        "version": 3
      },
      "file_extension": ".py",
      "mimetype": "text/x-python",
      "name": "python",
      "nbconvert_exporter": "python",
      "pygments_lexer": "ipython3",
      "version": "3.7.4"
    }
  },
  "cells": [
    {
      "cell_type": "markdown",
      "source": [
        "# Speech Emotion Recognition model\n",
        "\n"
      ],
      "metadata": {
        "id": "0eatG9XQSduG"
      }
    },
    {
      "cell_type": "markdown",
      "source": [
        "## Dependencies"
      ],
      "metadata": {
        "id": "zmSJJMj8T1YY"
      }
    },
    {
      "cell_type": "markdown",
      "source": [
        "\n",
        "\n",
        "> Better use %pip instead on !pip on Jupyter Notebook, or create your own venv and kernel (!pip in Colab).\n",
        "\n"
      ],
      "metadata": {
        "id": "uim65za8UOe4"
      }
    },
    {
      "cell_type": "code",
      "source": [
        "!pip install librosa\n",
        "!pip install tensorflow==2.6.0\n",
        "!pip install pandas\n",
        "!pip install tqdm\n",
        "!pip install scikit-learn"
      ],
      "metadata": {
        "id": "XyKW3jzIT3gW"
      },
      "execution_count": null,
      "outputs": []
    },
    {
      "cell_type": "code",
      "source": [
        "import numpy as np\n",
        "import pandas as pd\n",
        "import tensorflow as tf\n",
        "import os\n",
        "import librosa\n",
        "import matplotlib.pyplot as plt\n",
        "import sklearn\n",
        "from tqdm import tqdm"
      ],
      "metadata": {
        "id": "Dbm5U7DMcyFD"
      },
      "execution_count": null,
      "outputs": []
    },
    {
      "cell_type": "markdown",
      "source": [
        "## Data preparation"
      ],
      "metadata": {
        "id": "Wyl391cpSXt_"
      }
    },
    {
      "cell_type": "markdown",
      "source": [
        "Copy and unzip the files to colab to optimize I/O operations (running from Drive is very slow).\n",
        "\n",
        "\n",
        "> If you have the dataset in local, just create a folder in Colab's FS and upload it unzipped.\n",
        "\n",
        "\n",
        "> If working from local (Jupyter Notebook), skip this step."
      ],
      "metadata": {
        "id": "l_9vTMQFS_TQ"
      }
    },
    {
      "cell_type": "code",
      "metadata": {
        "id": "33VPWn5HSUf6"
      },
      "source": [
        "from google.colab import drive\n",
        "drive.mount('/content/drive')\n",
        "\n",
        "!mkdir /content/dataset\n",
        "!unzip /content/drive/MyDrive/audios.zip -d /content/dataset"
      ],
      "execution_count": null,
      "outputs": []
    },
    {
      "cell_type": "markdown",
      "source": [
        "### Load CREMA-D dataset"
      ],
      "metadata": {
        "id": "0uUJTpNAW6oH"
      }
    },
    {
      "cell_type": "code",
      "metadata": {
        "id": "Dcxp16ZhMKrC"
      },
      "source": [
        "#CREMA-D DATASET\n",
        "\n",
        "EMOTIONS = {'ANG': 'anger', 'HAP': 'happiness', 'DIS': 'disgust', 'FEA': 'fear', 'SAD': 'sadness', 'NEU': 'neutral'} # map codes to labels\n",
        "crema_d = '/content/dataset/AudioWAV/'\n",
        "\n",
        "file_emotion = {} # dict of key=filepath, value=emotion\n",
        "\n",
        "for filepath in os.listdir(crema_d):\n",
        "    path = crema_d + filepath\n",
        "    file_emotion[path] = EMOTIONS[filepath.split('_')[2]] # filename: '1001_DFA_ANG_XX.wav' -> filepath.split('_')[2] = 'ANG' "
      ],
      "execution_count": null,
      "outputs": []
    },
    {
      "cell_type": "markdown",
      "source": [
        "### Load RAVDESS dataset"
      ],
      "metadata": {
        "id": "4RhjQJUKXAvV"
      }
    },
    {
      "cell_type": "code",
      "metadata": {
        "id": "_RM2O8sMg3Pv"
      },
      "source": [
        "#RAVDESS DATASET\n",
        "\n",
        "ravdess = '/content/dataset/ravdess/'\n",
        "RAVDESS_EMOTIONS = {1: 'neutral', 2: 'neutral', 3: 'happiness', 4: 'sadness', 5: 'anger', 6: 'fear', 7: 'disgust', 8: 'surprise'} # map codes to labels (1, 2 both map to neutral)\n",
        "\n",
        "for actor in os.listdir(ravdess):\n",
        "    path = ravdess + actor\n",
        "    for files in os.listdir(path):\n",
        "        emotion = RAVDESS_EMOTIONS[int(files.split('-')[2])] # filename: '03-01-01-01-01-01-01.wav' -> filepath.split('_')[2] = '01' -> neutral\n",
        "        path_new = path + '/' + files\n",
        "        file_emotion[path_new] = emotion"
      ],
      "execution_count": null,
      "outputs": []
    },
    {
      "cell_type": "markdown",
      "source": [
        "### Merge datasets in a Pandas Dataframe"
      ],
      "metadata": {
        "id": "eKkg2c6lY21_"
      }
    },
    {
      "cell_type": "code",
      "metadata": {
        "id": "6NSAY2UIMKrF",
        "colab": {
          "base_uri": "https://localhost:8080/",
          "height": 363
        },
        "outputId": "8a73ad62-41c9-4a8f-bbcb-5b13aabedb47"
      },
      "source": [
        "import pandas as pd\n",
        "\n",
        "dataset = pd.DataFrame(file_emotion.items(), columns=['path', 'emotion'])\n",
        "pd.set_option('max_colwidth', 100)\n",
        "dataset.tail(10)"
      ],
      "execution_count": null,
      "outputs": [
        {
          "output_type": "execute_result",
          "data": {
            "text/plain": [
              "                                                            path   emotion\n",
              "8872  /content/dataset/ravdess/Actor_04/03-01-08-02-02-02-04.wav  surprise\n",
              "8873  /content/dataset/ravdess/Actor_04/03-01-06-01-02-02-04.wav      fear\n",
              "8874  /content/dataset/ravdess/Actor_04/03-01-06-02-02-01-04.wav      fear\n",
              "8875  /content/dataset/ravdess/Actor_04/03-01-04-02-01-02-04.wav   sadness\n",
              "8876  /content/dataset/ravdess/Actor_04/03-01-02-01-02-02-04.wav   neutral\n",
              "8877  /content/dataset/ravdess/Actor_04/03-01-02-02-02-01-04.wav   neutral\n",
              "8878  /content/dataset/ravdess/Actor_04/03-01-05-01-02-02-04.wav     anger\n",
              "8879  /content/dataset/ravdess/Actor_04/03-01-07-02-01-01-04.wav   disgust\n",
              "8880  /content/dataset/ravdess/Actor_04/03-01-05-01-02-01-04.wav     anger\n",
              "8881  /content/dataset/ravdess/Actor_04/03-01-04-01-01-01-04.wav   sadness"
            ],
            "text/html": [
              "\n",
              "  <div id=\"df-2f7633e7-9866-4628-a9a6-f1dc2a73d0c9\">\n",
              "    <div class=\"colab-df-container\">\n",
              "      <div>\n",
              "<style scoped>\n",
              "    .dataframe tbody tr th:only-of-type {\n",
              "        vertical-align: middle;\n",
              "    }\n",
              "\n",
              "    .dataframe tbody tr th {\n",
              "        vertical-align: top;\n",
              "    }\n",
              "\n",
              "    .dataframe thead th {\n",
              "        text-align: right;\n",
              "    }\n",
              "</style>\n",
              "<table border=\"1\" class=\"dataframe\">\n",
              "  <thead>\n",
              "    <tr style=\"text-align: right;\">\n",
              "      <th></th>\n",
              "      <th>path</th>\n",
              "      <th>emotion</th>\n",
              "    </tr>\n",
              "  </thead>\n",
              "  <tbody>\n",
              "    <tr>\n",
              "      <th>8872</th>\n",
              "      <td>/content/dataset/ravdess/Actor_04/03-01-08-02-02-02-04.wav</td>\n",
              "      <td>surprise</td>\n",
              "    </tr>\n",
              "    <tr>\n",
              "      <th>8873</th>\n",
              "      <td>/content/dataset/ravdess/Actor_04/03-01-06-01-02-02-04.wav</td>\n",
              "      <td>fear</td>\n",
              "    </tr>\n",
              "    <tr>\n",
              "      <th>8874</th>\n",
              "      <td>/content/dataset/ravdess/Actor_04/03-01-06-02-02-01-04.wav</td>\n",
              "      <td>fear</td>\n",
              "    </tr>\n",
              "    <tr>\n",
              "      <th>8875</th>\n",
              "      <td>/content/dataset/ravdess/Actor_04/03-01-04-02-01-02-04.wav</td>\n",
              "      <td>sadness</td>\n",
              "    </tr>\n",
              "    <tr>\n",
              "      <th>8876</th>\n",
              "      <td>/content/dataset/ravdess/Actor_04/03-01-02-01-02-02-04.wav</td>\n",
              "      <td>neutral</td>\n",
              "    </tr>\n",
              "    <tr>\n",
              "      <th>8877</th>\n",
              "      <td>/content/dataset/ravdess/Actor_04/03-01-02-02-02-01-04.wav</td>\n",
              "      <td>neutral</td>\n",
              "    </tr>\n",
              "    <tr>\n",
              "      <th>8878</th>\n",
              "      <td>/content/dataset/ravdess/Actor_04/03-01-05-01-02-02-04.wav</td>\n",
              "      <td>anger</td>\n",
              "    </tr>\n",
              "    <tr>\n",
              "      <th>8879</th>\n",
              "      <td>/content/dataset/ravdess/Actor_04/03-01-07-02-01-01-04.wav</td>\n",
              "      <td>disgust</td>\n",
              "    </tr>\n",
              "    <tr>\n",
              "      <th>8880</th>\n",
              "      <td>/content/dataset/ravdess/Actor_04/03-01-05-01-02-01-04.wav</td>\n",
              "      <td>anger</td>\n",
              "    </tr>\n",
              "    <tr>\n",
              "      <th>8881</th>\n",
              "      <td>/content/dataset/ravdess/Actor_04/03-01-04-01-01-01-04.wav</td>\n",
              "      <td>sadness</td>\n",
              "    </tr>\n",
              "  </tbody>\n",
              "</table>\n",
              "</div>\n",
              "      <button class=\"colab-df-convert\" onclick=\"convertToInteractive('df-2f7633e7-9866-4628-a9a6-f1dc2a73d0c9')\"\n",
              "              title=\"Convert this dataframe to an interactive table.\"\n",
              "              style=\"display:none;\">\n",
              "        \n",
              "  <svg xmlns=\"http://www.w3.org/2000/svg\" height=\"24px\"viewBox=\"0 0 24 24\"\n",
              "       width=\"24px\">\n",
              "    <path d=\"M0 0h24v24H0V0z\" fill=\"none\"/>\n",
              "    <path d=\"M18.56 5.44l.94 2.06.94-2.06 2.06-.94-2.06-.94-.94-2.06-.94 2.06-2.06.94zm-11 1L8.5 8.5l.94-2.06 2.06-.94-2.06-.94L8.5 2.5l-.94 2.06-2.06.94zm10 10l.94 2.06.94-2.06 2.06-.94-2.06-.94-.94-2.06-.94 2.06-2.06.94z\"/><path d=\"M17.41 7.96l-1.37-1.37c-.4-.4-.92-.59-1.43-.59-.52 0-1.04.2-1.43.59L10.3 9.45l-7.72 7.72c-.78.78-.78 2.05 0 2.83L4 21.41c.39.39.9.59 1.41.59.51 0 1.02-.2 1.41-.59l7.78-7.78 2.81-2.81c.8-.78.8-2.07 0-2.86zM5.41 20L4 18.59l7.72-7.72 1.47 1.35L5.41 20z\"/>\n",
              "  </svg>\n",
              "      </button>\n",
              "      \n",
              "  <style>\n",
              "    .colab-df-container {\n",
              "      display:flex;\n",
              "      flex-wrap:wrap;\n",
              "      gap: 12px;\n",
              "    }\n",
              "\n",
              "    .colab-df-convert {\n",
              "      background-color: #E8F0FE;\n",
              "      border: none;\n",
              "      border-radius: 50%;\n",
              "      cursor: pointer;\n",
              "      display: none;\n",
              "      fill: #1967D2;\n",
              "      height: 32px;\n",
              "      padding: 0 0 0 0;\n",
              "      width: 32px;\n",
              "    }\n",
              "\n",
              "    .colab-df-convert:hover {\n",
              "      background-color: #E2EBFA;\n",
              "      box-shadow: 0px 1px 2px rgba(60, 64, 67, 0.3), 0px 1px 3px 1px rgba(60, 64, 67, 0.15);\n",
              "      fill: #174EA6;\n",
              "    }\n",
              "\n",
              "    [theme=dark] .colab-df-convert {\n",
              "      background-color: #3B4455;\n",
              "      fill: #D2E3FC;\n",
              "    }\n",
              "\n",
              "    [theme=dark] .colab-df-convert:hover {\n",
              "      background-color: #434B5C;\n",
              "      box-shadow: 0px 1px 3px 1px rgba(0, 0, 0, 0.15);\n",
              "      filter: drop-shadow(0px 1px 2px rgba(0, 0, 0, 0.3));\n",
              "      fill: #FFFFFF;\n",
              "    }\n",
              "  </style>\n",
              "\n",
              "      <script>\n",
              "        const buttonEl =\n",
              "          document.querySelector('#df-2f7633e7-9866-4628-a9a6-f1dc2a73d0c9 button.colab-df-convert');\n",
              "        buttonEl.style.display =\n",
              "          google.colab.kernel.accessAllowed ? 'block' : 'none';\n",
              "\n",
              "        async function convertToInteractive(key) {\n",
              "          const element = document.querySelector('#df-2f7633e7-9866-4628-a9a6-f1dc2a73d0c9');\n",
              "          const dataTable =\n",
              "            await google.colab.kernel.invokeFunction('convertToInteractive',\n",
              "                                                     [key], {});\n",
              "          if (!dataTable) return;\n",
              "\n",
              "          const docLinkHtml = 'Like what you see? Visit the ' +\n",
              "            '<a target=\"_blank\" href=https://colab.research.google.com/notebooks/data_table.ipynb>data table notebook</a>'\n",
              "            + ' to learn more about interactive tables.';\n",
              "          element.innerHTML = '';\n",
              "          dataTable['output_type'] = 'display_data';\n",
              "          await google.colab.output.renderOutput(dataTable, element);\n",
              "          const docLink = document.createElement('div');\n",
              "          docLink.innerHTML = docLinkHtml;\n",
              "          element.appendChild(docLink);\n",
              "        }\n",
              "      </script>\n",
              "    </div>\n",
              "  </div>\n",
              "  "
            ]
          },
          "metadata": {},
          "execution_count": 5
        }
      ]
    },
    {
      "cell_type": "code",
      "source": [
        "pd.value_counts(dataset['emotion']).plot.bar()"
      ],
      "metadata": {
        "colab": {
          "base_uri": "https://localhost:8080/",
          "height": 324
        },
        "id": "Rxw3woPz0GLA",
        "outputId": "8085fe98-0bb6-4ee0-c26e-367e6d50026b"
      },
      "execution_count": null,
      "outputs": [
        {
          "output_type": "execute_result",
          "data": {
            "text/plain": [
              "<matplotlib.axes._subplots.AxesSubplot at 0x7fc0d70d6590>"
            ]
          },
          "metadata": {},
          "execution_count": 6
        },
        {
          "output_type": "display_data",
          "data": {
            "text/plain": [
              "<Figure size 432x288 with 1 Axes>"
            ],
            "image/png": "[encoded data removed]"
          },
          "metadata": {
            "needs_background": "light"
          }
        }
      ]
    },
    {
      "cell_type": "code",
      "source": [
        "dataset['emotion'].count()"
      ],
      "metadata": {
        "colab": {
          "base_uri": "https://localhost:8080/"
        },
        "id": "J-bnPipH6gav",
        "outputId": "b96cb623-5624-41f1-b892-745f1bbdd7f4"
      },
      "execution_count": null,
      "outputs": [
        {
          "output_type": "execute_result",
          "data": {
            "text/plain": [
              "8882"
            ]
          },
          "metadata": {},
          "execution_count": 8
        }
      ]
    },
    {
      "cell_type": "markdown",
      "source": [
        "### Test librosa functions on data samples"
      ],
      "metadata": {
        "id": "uXNMP8XmZEYn"
      }
    },
    {
      "cell_type": "code",
      "metadata": {
        "id": "dFp0tGJqMKrG",
        "colab": {
          "base_uri": "https://localhost:8080/",
          "height": 359
        },
        "outputId": "285d66cc-7665-45ab-f53f-7f473c1c2a22"
      },
      "source": [
        "import IPython.display as ipd\n",
        "import librosa.display\n",
        "import matplotlib.pyplot as plt\n",
        "\n",
        "sample = dataset.iloc[5, 0]\n",
        "audio, sr = librosa.load(sample)\n",
        "librosa.display.waveplot(audio, sr=sr)\n",
        "\n",
        "print(audio.shape)\n",
        "print(sr)\n",
        "ipd.Audio(sample)"
      ],
      "execution_count": null,
      "outputs": [
        {
          "output_type": "stream",
          "name": "stdout",
          "text": [
            "(50334,)\n",
            "22050\n"
          ]
        },
        {
          "output_type": "execute_result",
          "data": {
            "text/plain": [
              "<IPython.lib.display.Audio object>"
            ],
            "text/html": [
              "\n",
              "                <audio controls=\"controls\" >\n",
              "                    <source src=\"data:audio/x-wav;base64,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\" type=\"audio/x-wav\" />\n",
              "                    Your browser does not support the audio element.\n",
              "                </audio>\n",
              "              "
            ]
          },
          "metadata": {},
          "execution_count": 7
        },
        {
          "output_type": "display_data",
          "data": {
            "text/plain": [
              "<Figure size 432x288 with 1 Axes>"
            ],
            "image/png": "[encoded data removed]"
          },
          "metadata": {
            "needs_background": "light"
          }
        }
      ]
    },
    {
      "cell_type": "code",
      "metadata": {
        "id": "IFnbKvkLMKrI"
      },
      "source": [
        "#trim silence\n",
        "yt, index = librosa.effects.trim(audio, top_db=30, frame_length=256, hop_length=64)\n",
        "librosa.display.waveplot(yt, sr=sr)\n",
        "ipd.Audio(yt, rate=sr)"
      ],
      "execution_count": null,
      "outputs": []
    },
    {
      "cell_type": "markdown",
      "source": [
        "#### Sound transformations for Data Augmentation"
      ],
      "metadata": {
        "id": "zis_Tv2taKZh"
      }
    },
    {
      "cell_type": "code",
      "metadata": {
        "id": "YXTxKELYVy-V"
      },
      "source": [
        "def add_noise(audio):\n",
        "  noise = 0.04*np.random.uniform()*np.amax(audio)\n",
        "  audio = audio + (noise * np.random.normal(size=audio.shape[0]))\n",
        "  return audio\n",
        "\n",
        "def add_stretch(audio):\n",
        "    return librosa.effects.time_stretch(audio, rate=0.8)\n",
        "\n",
        "def add_pitch(audio, sr):\n",
        "  return librosa.effects.pitch_shift(audio, sr=sr, n_steps=1.5)"
      ],
      "execution_count": null,
      "outputs": []
    },
    {
      "cell_type": "code",
      "source": [
        "# testing noise transformation\n",
        "\n",
        "noisy_audio = add_noise(audio)\n",
        "librosa.display.waveplot(noisy_audio, sr=sr)\n",
        "ipd.Audio(noisy_audio, rate=sr)"
      ],
      "metadata": {
        "id": "rKvAJMj8aYM-"
      },
      "execution_count": null,
      "outputs": []
    },
    {
      "cell_type": "code",
      "metadata": {
        "id": "muzBx-GpYW1t"
      },
      "source": [
        "# testing stretch transformation\n",
        "\n",
        "stretch_audio = add_stretch(audio)\n",
        "librosa.display.waveplot(stretch_audio, sr=sr)\n",
        "ipd.Audio(stretch_audio, rate=sr)"
      ],
      "execution_count": null,
      "outputs": []
    },
    {
      "cell_type": "code",
      "metadata": {
        "id": "mk2lpP8yYXQ9"
      },
      "source": [
        "# testing pitch transformation\n",
        "\n",
        "pitch_audio = add_pitch(audio, sr)\n",
        "librosa.display.waveplot(pitch_audio, sr=sr)\n",
        "ipd.Audio(pitch_audio, rate=sr)"
      ],
      "execution_count": null,
      "outputs": []
    },
    {
      "cell_type": "markdown",
      "source": [
        "### Check if GPU is available for training in Tensorflow"
      ],
      "metadata": {
        "id": "T1mE1ptLax5_"
      }
    },
    {
      "cell_type": "code",
      "metadata": {
        "id": "g9OrMB9iNc9i",
        "colab": {
          "base_uri": "https://localhost:8080/"
        },
        "outputId": "95541d35-6f98-41ec-b486-734ed65201d7"
      },
      "source": [
        "#initialize colab GPU (or local GPU)\n",
        "import tensorflow as tf\n",
        "\n",
        "device_name = tf.test.gpu_device_name() # if GPU exists it returns its name, if not, it returns an empty string\n",
        "if device_name != '/device:GPU:0':\n",
        "  raise SystemError('GPU device not found')\n",
        "\n",
        "print('Found GPU at: {}'.format(device_name))"
      ],
      "execution_count": null,
      "outputs": [
        {
          "output_type": "stream",
          "name": "stdout",
          "text": [
            "Found GPU at: /device:GPU:0\n"
          ]
        }
      ]
    },
    {
      "cell_type": "markdown",
      "source": [
        "### Building dataset for training"
      ],
      "metadata": {
        "id": "L4E2Ht2NcZzJ"
      }
    },
    {
      "cell_type": "markdown",
      "source": [
        "\n",
        "\n",
        "> Extracting the MFCC features from every audio sample and appending it to the dataset along with its corresponding label.\n",
        "\n",
        "\n",
        "\n",
        "> ⚠ This step might take several minutes and it might consume high RAM memory and CPU.\n",
        "\n"
      ],
      "metadata": {
        "id": "CxMgfWPKc6kP"
      }
    },
    {
      "cell_type": "code",
      "metadata": {
        "id": "EUizvCfzMKrK",
        "colab": {
          "base_uri": "https://localhost:8080/"
        },
        "outputId": "3c1fe199-1478-4702-9ed6-d5ca5370fa23"
      },
      "source": [
        "import numpy as np\n",
        "from tqdm import tqdm\n",
        "\n",
        "n_mfcc = 30\n",
        "sampling_rate = 44100\n",
        "audio_duration = 2.0\n",
        "\n",
        "input_len = sampling_rate * audio_duration\n",
        "\n",
        "X = np.empty(shape=(dataset.shape[0], n_mfcc, 173)) # shape is (num_samples, n_mfcc, sequence_length)\n",
        "Y = []\n",
        "\n",
        "for i, (file, emotion) in tqdm(enumerate(zip(dataset['path'], dataset['emotion']))):\n",
        "    data, sr = librosa.load(file, sr = sampling_rate,  res_type='kaiser_fast', duration= audio_duration, offset=0.5) # load audio file with fixed length (2 seconds)\n",
        "\n",
        "    if len(data) > input_len:\n",
        "            max_offset = len(data) - input_len\n",
        "            offset = np.random.randint(max_offset)\n",
        "            data = data[offset:(input_len + offset)]\n",
        "    else:\n",
        "        if input_len > len(data):\n",
        "            max_offset = input_len - len(data)\n",
        "            offset = np.random.randint(max_offset)\n",
        "        else:\n",
        "            offset = 0\n",
        "        data = np.pad(data, (offset, int(input_len) - len(data) - offset), 'constant')\n",
        "    \n",
        "    mfcc = librosa.feature.mfcc(data, sr=sampling_rate, n_mfcc=n_mfcc)\n",
        "    X[i] = mfcc\n",
        "    Y.append(emotion)"
      ],
      "execution_count": null,
      "outputs": [
        {
          "output_type": "stream",
          "name": "stderr",
          "text": [
            "8882it [07:33, 19.60it/s]\n"
          ]
        }
      ]
    },
    {
      "cell_type": "code",
      "source": [
        "# load X and Y if previously saved to save time\n",
        "\n",
        "X = np.load('/content/drive/MyDrive/X.npy')\n",
        "Y = np.load('/content/drive/MyDrive/Y.npy')"
      ],
      "metadata": {
        "id": "WhTGqqgylpQx"
      },
      "execution_count": null,
      "outputs": []
    },
    {
      "cell_type": "markdown",
      "source": [
        "#### Save the intermediate arrays to avoid generating new ones in every run of the notebook"
      ],
      "metadata": {
        "id": "0K5s8pcOzrdv"
      }
    },
    {
      "cell_type": "code",
      "source": [
        "np.save('/content/drive/MyDrive/X.npy', X)\n",
        "np.save('/content/drive/MyDrive/Y.npy', Y)"
      ],
      "metadata": {
        "id": "bVw7GqeGqGzY"
      },
      "execution_count": null,
      "outputs": []
    },
    {
      "cell_type": "markdown",
      "source": [
        "#### Transforming target labels to one-hot encoded vectors"
      ],
      "metadata": {
        "id": "yPk4y490urJS"
      }
    },
    {
      "cell_type": "code",
      "metadata": {
        "id": "bPH2x_ydMKrM",
        "colab": {
          "base_uri": "https://localhost:8080/"
        },
        "outputId": "c6886b0f-d103-4233-fffa-3518687e1156"
      },
      "source": [
        "from sklearn.preprocessing import LabelEncoder\n",
        "from tensorflow.keras.utils import to_categorical\n",
        "\n",
        "lb = LabelEncoder()\n",
        "Y_trans = to_categorical(lb.fit_transform(Y))\n",
        "\n",
        "print(X.shape)\n",
        "print(Y_trans.shape)"
      ],
      "execution_count": null,
      "outputs": [
        {
          "output_type": "stream",
          "name": "stdout",
          "text": [
            "(8882, 30, 173)\n",
            "(8882, 7)\n"
          ]
        }
      ]
    },
    {
      "cell_type": "markdown",
      "source": [
        "#### Saving the LabelEncoder object for later use"
      ],
      "metadata": {
        "id": "Rleaan1nu2Ij"
      }
    },
    {
      "cell_type": "code",
      "metadata": {
        "id": "CC1VJ7SX7H9j"
      },
      "source": [
        "import pickle\n",
        "\n",
        "filename = 'labels'\n",
        "outfile = open(filename,'wb')\n",
        "pickle.dump(lb,outfile)\n",
        "outfile.close()"
      ],
      "execution_count": null,
      "outputs": []
    },
    {
      "cell_type": "markdown",
      "source": [
        "#### Applying data augmentation (noise on the training set)"
      ],
      "metadata": {
        "id": "LftlgUMGu_l7"
      }
    },
    {
      "cell_type": "code",
      "metadata": {
        "id": "qh8WLr2gnXUB",
        "colab": {
          "base_uri": "https://localhost:8080/"
        },
        "outputId": "f97cefe0-ff67-4743-d591-17360c8656bc"
      },
      "source": [
        "from tqdm import tqdm\n",
        "from sklearn.model_selection import train_test_split\n",
        "from sklearn.preprocessing import LabelEncoder\n",
        "from tensorflow.keras.utils import to_categorical\n",
        "\n",
        "n_mfcc = 30\n",
        "sampling_rate = 44100\n",
        "audio_duration = 2.0\n",
        "\n",
        "input_len = sampling_rate * audio_duration\n",
        "\n",
        "# we take a little portion of the dataset to apply noise on it (20% of samples)\n",
        "_, file_aug, _, emo_aug = train_test_split(dataset['path'], dataset['emotion'], test_size=0.2, random_state=0, shuffle = True)\n",
        "\n",
        "X_aug = np.empty(shape=(file_aug.shape[0], n_mfcc, 173)) #previously known\n",
        "y_aug = []\n",
        "\n",
        "for i, (file, emotion) in tqdm(enumerate(zip(file_aug, emo_aug))):\n",
        "    \n",
        "    data, sr = librosa.load(file, sr = sampling_rate, duration= audio_duration, offset=0.5)\n",
        "\n",
        "    if len(data) > input_len:\n",
        "            max_offset = len(data) - input_len\n",
        "            offset = np.random.randint(max_offset)\n",
        "            data = data[offset:(input_len + offset)]\n",
        "    else:\n",
        "        if input_len > len(data):\n",
        "            max_offset = input_len - len(data)\n",
        "            offset = np.random.randint(max_offset)\n",
        "        else:\n",
        "            offset = 0\n",
        "        data = np.pad(data, (offset, int(input_len) - len(data) - offset), 'constant')\n",
        "    \n",
        "    noise_mfcc = librosa.feature.mfcc(add_noise(data), sr=sampling_rate, n_mfcc=n_mfcc)\n",
        "    \n",
        "    X_aug[i] = noise_mfcc\n",
        "    y_aug.append(emotion)\n",
        "  \n",
        "y_augmented = to_categorical(lb.transform(y_aug))"
      ],
      "execution_count": null,
      "outputs": [
        {
          "output_type": "stream",
          "name": "stderr",
          "text": [
            "1777it [05:48,  5.10it/s]\n"
          ]
        }
      ]
    },
    {
      "cell_type": "code",
      "source": [
        "# load arrays if previously saved to save time\n",
        "\n",
        "X_aug = np.load('/content/drive/MyDrive/X_aug.npy')\n",
        "y_augmented = np.load('/content/drive/MyDrive/Y_aug.npy')"
      ],
      "metadata": {
        "id": "5mX-iawd1hta"
      },
      "execution_count": null,
      "outputs": []
    },
    {
      "cell_type": "markdown",
      "source": [
        "#### Save the intermediate arrays to avoid generating new ones in every run of the notebook"
      ],
      "metadata": {
        "id": "rwZe4Ms6eWNX"
      }
    },
    {
      "cell_type": "code",
      "source": [
        "np.save('/content/drive/MyDrive/X_aug.npy', X_aug)\n",
        "np.save('/content/drive/MyDrive/Y_aug.npy', y_augmented)"
      ],
      "metadata": {
        "id": "SqP5NEjGrqLx"
      },
      "execution_count": null,
      "outputs": []
    },
    {
      "cell_type": "code",
      "metadata": {
        "id": "27np8zz7pqhe",
        "colab": {
          "base_uri": "https://localhost:8080/"
        },
        "outputId": "878abafc-9e0b-4811-cfaf-203c5419636a"
      },
      "source": [
        "print(X_aug.shape)\n",
        "print(y_augmented.shape)\n",
        "print(lb.inverse_transform(np.argmax(y_augmented[:5], axis=1)))"
      ],
      "execution_count": null,
      "outputs": [
        {
          "output_type": "stream",
          "name": "stdout",
          "text": [
            "(1777, 30, 173)\n",
            "(1777, 7)\n",
            "['fear' 'fear' 'disgust' 'surprise' 'fear']\n"
          ]
        }
      ]
    },
    {
      "cell_type": "markdown",
      "source": [
        "#### Splitting data, concatenating augmented samples to the training set and normalizing data on the training set"
      ],
      "metadata": {
        "id": "Uj6OJr7IwwoS"
      }
    },
    {
      "cell_type": "code",
      "metadata": {
        "id": "UhWlPCS9MKrN",
        "colab": {
          "base_uri": "https://localhost:8080/"
        },
        "outputId": "cf362552-36bc-4ced-eda7-2d30c49bc477"
      },
      "source": [
        "from sklearn.model_selection import train_test_split\n",
        "from sklearn.preprocessing import StandardScaler\n",
        "\n",
        "X_train, X_test, y_train, y_test = train_test_split(X, Y_trans, test_size=0.2, random_state=0, shuffle = True)\n",
        "\n",
        "X_train = np.concatenate((X_train, X_aug), axis=0)\n",
        "y_train = np.concatenate((y_train, y_augmented), axis=0)\n",
        "\n",
        "print('After concatenating: ', X_train.shape)\n",
        "\n",
        "mean = np.mean(X_train, axis=0)\n",
        "std = np.std(X_train, axis=0)\n",
        "min = np.min(X_train, axis=0)\n",
        "max = np.max(X_train, axis=0)\n",
        "\n",
        "# MinMax Scaling\n",
        "#X_train = (X_train - min)/(max - min)\n",
        "#X_test = (X_test - min)/(max - min)\n",
        "\n",
        "# Normalizing\n",
        "X_train = (X_train - mean)/std\n",
        "X_test = (X_test - mean)/std\n",
        "\n",
        "X_train = np.expand_dims(X_train, axis=-1)\n",
        "X_test = np.expand_dims(X_test, axis=-1)\n",
        "\n",
        "print('After expanding dims: ', X_train.shape)"
      ],
      "execution_count": null,
      "outputs": [
        {
          "output_type": "stream",
          "name": "stdout",
          "text": [
            "After concatenating:  (8882, 30, 173)\n",
            "After expanding dims:  (8882, 30, 173, 1)\n"
          ]
        }
      ]
    },
    {
      "cell_type": "code",
      "metadata": {
        "id": "KwUuLqrJMKrP",
        "colab": {
          "base_uri": "https://localhost:8080/"
        },
        "outputId": "6ca2ca2d-ef33-442d-fe2d-2df798cacaf2"
      },
      "source": [
        "print(X_train.shape)\n",
        "print(X_test.shape)\n",
        "print(y_train.shape)\n",
        "print(y_test.shape)\n",
        "\n",
        "print(lb.inverse_transform(np.argmax(y_train[:5], axis=1)))"
      ],
      "execution_count": null,
      "outputs": [
        {
          "output_type": "stream",
          "name": "stdout",
          "text": [
            "(8882, 30, 173, 1)\n",
            "(1777, 30, 173, 1)\n",
            "(8882, 7)\n",
            "(1777, 7)\n",
            "['fear' 'neutral' 'fear' 'fear' 'disgust']\n"
          ]
        }
      ]
    },
    {
      "cell_type": "markdown",
      "source": [
        "## Training the model"
      ],
      "metadata": {
        "id": "3x7Ie1Gry5cx"
      }
    },
    {
      "cell_type": "markdown",
      "source": [
        "### Main model (chosen for the serverless deployment)"
      ],
      "metadata": {
        "id": "yPLTDzoffYmG"
      }
    },
    {
      "cell_type": "code",
      "metadata": {
        "id": "BRajacsMMKrQ"
      },
      "source": [
        "from tensorflow.keras.layers import Input, Conv2D, Dense, Flatten, Dropout, GlobalMaxPooling2D, MaxPooling2D, BatchNormalization, TimeDistributed, LSTM, GaussianNoise\n",
        "from tensorflow.keras.models import Model\n",
        "from tensorflow.keras.regularizers import l2\n",
        "from tensorflow.keras.utils import plot_model\n",
        "\n",
        "# Build the model using the functional API\n",
        "i = Input(X_train[0].shape)\n",
        "\n",
        "x = Conv2D(64, (5, 5), activation='relu', padding='same')(i)\n",
        "x = BatchNormalization()(x)\n",
        "x = MaxPooling2D((2, 2))(x)\n",
        "x = Dropout(0.2)(x)\n",
        "\n",
        "x = Conv2D(128, (5, 5),  activation='relu', padding='same')(x)\n",
        "x = BatchNormalization()(x)\n",
        "x = MaxPooling2D((2, 2))(x)\n",
        "x = Dropout(0.2)(x)\n",
        "\n",
        "x = Conv2D(128, (3, 3), activation='relu', padding='same')(x)\n",
        "x = BatchNormalization()(x)\n",
        "x = MaxPooling2D((2, 2))(x)\n",
        "x = Dropout(0.2)(x)\n",
        "\n",
        "x = Conv2D(256, (3, 3), activation='relu', padding='same')(x)\n",
        "x = BatchNormalization()(x)\n",
        "x = MaxPooling2D((2, 2))(x)\n",
        "x = Dropout(0.2)(x)\n",
        "x = GaussianNoise(0.35)(x)\n",
        "\n",
        "x = Flatten()(x)\n",
        "x = Dropout(0.2)(x)\n",
        "x = Dense(256, activation='relu', kernel_regularizer=l2(0.1))(x)\n",
        "x = Dropout(0.3)(x)\n",
        "x = BatchNormalization()(x)\n",
        "x = Dense(len(dataset['emotion'].unique()), activation='softmax')(x)\n",
        "\n",
        "model = Model(i, x)\n",
        "plot_model(model, to_file='modelA.png', show_shapes=True, show_dtype=True, rankdir=\"TB\", expand_nested=False)"
      ],
      "execution_count": null,
      "outputs": []
    },
    {
      "cell_type": "markdown",
      "source": [
        "### Alternative model"
      ],
      "metadata": {
        "id": "CtEuy01IffDn"
      }
    },
    {
      "cell_type": "code",
      "metadata": {
        "id": "xal4C5uZgzyN"
      },
      "source": [
        "from tensorflow.keras.layers import Input, Conv2D, Dense, Flatten, Dropout, GlobalMaxPooling2D, MaxPooling2D, BatchNormalization, TimeDistributed, LSTM, GaussianNoise, LeakyReLU, Activation\n",
        "from tensorflow.keras.models import Model\n",
        "from tensorflow.keras.regularizers import l2\n",
        "from tensorflow.keras.utils import plot_model\n",
        "\n",
        "# Build the model using the functional API\n",
        "i = Input(shape= X_train[0].shape)\n",
        "\n",
        "x = Conv2D(64, (5, 5), padding='same')(i)\n",
        "x = BatchNormalization()(x)\n",
        "x = LeakyReLU(alpha=0.1)(x) #Activation('relu')(x) #\n",
        "x = MaxPooling2D((2, 2))(x)\n",
        "x = Dropout(0.2)(x)\n",
        "\n",
        "x = Conv2D(128, (5, 5), padding='same')(x)\n",
        "x = BatchNormalization()(x)\n",
        "x = LeakyReLU(alpha=0.1)(x) #Activation('relu')(x) #\n",
        "x = MaxPooling2D((2, 2))(x)\n",
        "x = Dropout(0.2)(x)\n",
        "\n",
        "x = Conv2D(128, (3, 3), padding='same')(x)\n",
        "x = BatchNormalization()(x)\n",
        "x = LeakyReLU(alpha=0.1)(x) #Activation('relu')(x) #\n",
        "x = MaxPooling2D((2, 2))(x)\n",
        "x = Dropout(0.2)(x)\n",
        "\n",
        "x = Conv2D(256, (3, 3), padding='same')(x)\n",
        "x = BatchNormalization()(x)\n",
        "x = LeakyReLU(alpha=0.1)(x) #Activation('relu')(x) #\n",
        "x = MaxPooling2D((2, 2))(x)\n",
        "x = Dropout(0.2)(x)\n",
        "x = GaussianNoise(0.35)(x)\n",
        "\n",
        "x = Flatten()(x)\n",
        "#x = Dropout(0.2)(x)\n",
        "x = Dense(256, kernel_regularizer=l2(0.1))(x)\n",
        "x = BatchNormalization()(x)\n",
        "x = LeakyReLU(alpha=0.1)(x)\n",
        "x = Dropout(0.3)(x)\n",
        "x = Dense(len(dataset['emotion'].unique()), activation='softmax')(x)\n",
        "\n",
        "model = Model(i, x)\n",
        "plot_model(model, to_file='modelB.png', show_shapes=True, show_dtype=True)"
      ],
      "execution_count": null,
      "outputs": []
    },
    {
      "cell_type": "markdown",
      "source": [
        "### Alternative Transfer Learning model (experimental)\n",
        "\n",
        "\n",
        "\n",
        "> Based on the VGG16 model pre-trained on the ImageNet dataset.\n",
        "\n"
      ],
      "metadata": {
        "id": "SiEjumoRgAPw"
      }
    },
    {
      "cell_type": "code",
      "source": [
        "from tensorflow.keras.layers import Input, Conv2D, Dense, Flatten, Dropout, GlobalMaxPooling2D, MaxPooling2D, BatchNormalization, TimeDistributed, LSTM, GaussianNoise, LeakyReLU, Activation\n",
        "\n",
        "X3_train = np.concatenate((X_train, X_train, X_train), axis=-1)\n",
        "X3_test = np.concatenate((X_test, X_test, X_test), axis=-1)\n",
        "\n",
        "base_model = tf.keras.applications.vgg16.VGG16(include_top=False, weights='imagenet', input_shape=X3_train[0].shape)\n",
        "base_model.trainable = False\n",
        "\n",
        "x = Flatten()(base_model.output)\n",
        "x = Dropout(0.2)(x)\n",
        "x = Dense(256, kernel_regularizer=l2(0.1))(x)\n",
        "x = BatchNormalization()(x)\n",
        "x = LeakyReLU(alpha=0.1)(x)\n",
        "x = Dropout(0.3)(x)\n",
        "x = Dense(len(dataset['emotion'].unique()), activation='softmax')(x)\n",
        "\n",
        "model = Model(base_model.input, x)"
      ],
      "metadata": {
        "id": "zyqH-T6xWVE_"
      },
      "execution_count": null,
      "outputs": []
    },
    {
      "cell_type": "markdown",
      "source": [
        "### Compiling and fitting the model"
      ],
      "metadata": {
        "id": "FpBDJ2uPj51L"
      }
    },
    {
      "cell_type": "code",
      "metadata": {
        "id": "mQdhD437MKrS"
      },
      "source": [
        "from tensorflow.keras.optimizers.schedules import PolynomialDecay\n",
        "from datetime import datetime\n",
        "\n",
        "batch_size = 32\n",
        "num_epochs = 100\n",
        "num_train_steps = (len(X_train)// batch_size) * num_epochs\n",
        "\n",
        "logs = \"logs/\" + datetime.now().strftime(\"%Y%m%d-%H%M%S\")\n",
        "\n",
        "lr_scheduler = PolynomialDecay( initial_learning_rate= 0.1, end_learning_rate=0.001, decay_steps=num_train_steps)\n",
        "\n",
        "earlystop_cb = tf.keras.callbacks.EarlyStopping(monitor='val_loss', mode='min', patience=8, min_delta=0.02, verbose = 1)\n",
        "\n",
        "tboard_cb = tf.keras.callbacks.TensorBoard(log_dir = logs,\n",
        "                                           histogram_freq = 1,\n",
        "                                           profile_batch = '500,520')\n",
        "\n",
        "\n",
        "opt = tf.keras.optimizers.Adagrad(learning_rate=0.005, epsilon=1e-07) #tf.keras.optimizers.Adam(learning_rate = lr_scheduler) #\n",
        "model.compile(optimizer = opt,\n",
        "              loss = tf.keras.losses.CategoricalCrossentropy(),\n",
        "              metrics = ['accuracy'])"
      ],
      "execution_count": null,
      "outputs": []
    },
    {
      "cell_type": "code",
      "metadata": {
        "id": "co70C3DPMKrT",
        "colab": {
          "base_uri": "https://localhost:8080/"
        },
        "outputId": "00652318-ceac-4982-be2d-0c1f9eb1c034"
      },
      "source": [
        "import tensorflow as tf\n",
        "\n",
        "with tf.device('/device:GPU:0'):\n",
        "  r = model.fit(X_train, y_train, \n",
        "                validation_data=(X_test, y_test),\n",
        "                batch_size=batch_size,\n",
        "                callbacks=[tboard_cb], # the TensorBoard callback is used for profiling and it slows the process of training, remove if not useful.\n",
        "                epochs = num_epochs)"
      ],
      "execution_count": null,
      "outputs": [
        {
          "output_type": "stream",
          "name": "stdout",
          "text": [
            "Epoch 1/100\n",
            "278/278 [==============================] - 30s 70ms/step - loss: 25.4115 - accuracy: 0.3203 - val_loss: 12.8992 - val_accuracy: 0.2223\n",
            "Epoch 2/100\n",
            "278/278 [==============================] - 20s 71ms/step - loss: 7.6153 - accuracy: 0.4044 - val_loss: 4.8048 - val_accuracy: 0.3849\n",
            "Epoch 3/100\n",
            "278/278 [==============================] - 17s 63ms/step - loss: 3.6061 - accuracy: 0.4395 - val_loss: 2.7490 - val_accuracy: 0.4451\n",
            "Epoch 4/100\n",
            "278/278 [==============================] - 17s 62ms/step - loss: 2.4371 - accuracy: 0.4590 - val_loss: 2.0803 - val_accuracy: 0.4789\n",
            "Epoch 5/100\n",
            "278/278 [==============================] - 17s 62ms/step - loss: 2.0088 - accuracy: 0.4757 - val_loss: 1.8290 - val_accuracy: 0.4896\n",
            "Epoch 6/100\n",
            "278/278 [==============================] - 17s 62ms/step - loss: 1.8026 - accuracy: 0.4952 - val_loss: 1.7014 - val_accuracy: 0.5177\n",
            "Epoch 7/100\n",
            "278/278 [==============================] - 17s 61ms/step - loss: 1.6940 - accuracy: 0.5098 - val_loss: 1.7243 - val_accuracy: 0.4800\n",
            "Epoch 8/100\n",
            "278/278 [==============================] - 17s 63ms/step - loss: 1.6296 - accuracy: 0.5218 - val_loss: 1.5079 - val_accuracy: 0.5537\n",
            "Epoch 9/100\n",
            "278/278 [==============================] - 18s 64ms/step - loss: 1.5687 - accuracy: 0.5345 - val_loss: 1.5281 - val_accuracy: 0.5340\n",
            "Epoch 10/100\n",
            "278/278 [==============================] - 17s 61ms/step - loss: 1.5204 - accuracy: 0.5471 - val_loss: 1.5318 - val_accuracy: 0.5267\n",
            "Epoch 11/100\n",
            "278/278 [==============================] - 17s 62ms/step - loss: 1.4830 - accuracy: 0.5533 - val_loss: 1.4302 - val_accuracy: 0.5582\n",
            "Epoch 12/100\n",
            "278/278 [==============================] - 17s 63ms/step - loss: 1.4552 - accuracy: 0.5596 - val_loss: 1.4174 - val_accuracy: 0.5616\n",
            "Epoch 13/100\n",
            "278/278 [==============================] - 17s 62ms/step - loss: 1.4433 - accuracy: 0.5824 - val_loss: 1.5557 - val_accuracy: 0.5352\n",
            "Epoch 14/100\n",
            "278/278 [==============================] - 17s 62ms/step - loss: 1.4107 - accuracy: 0.5843 - val_loss: 1.3586 - val_accuracy: 0.5892\n",
            "Epoch 15/100\n",
            "278/278 [==============================] - 17s 61ms/step - loss: 1.4032 - accuracy: 0.5877 - val_loss: 1.5966 - val_accuracy: 0.5082\n",
            "Epoch 16/100\n",
            "278/278 [==============================] - 17s 63ms/step - loss: 1.3832 - accuracy: 0.5916 - val_loss: 1.3570 - val_accuracy: 0.6106\n",
            "Epoch 17/100\n",
            "278/278 [==============================] - 17s 62ms/step - loss: 1.3782 - accuracy: 0.6028 - val_loss: 1.3970 - val_accuracy: 0.5768\n",
            "Epoch 18/100\n",
            "278/278 [==============================] - 17s 62ms/step - loss: 1.3437 - accuracy: 0.6226 - val_loss: 1.3288 - val_accuracy: 0.6365\n",
            "Epoch 19/100\n",
            "278/278 [==============================] - 17s 61ms/step - loss: 1.3240 - accuracy: 0.6331 - val_loss: 1.4695 - val_accuracy: 0.5774\n",
            "Epoch 20/100\n",
            "278/278 [==============================] - 17s 63ms/step - loss: 1.3094 - accuracy: 0.6347 - val_loss: 1.4330 - val_accuracy: 0.5926\n",
            "Epoch 21/100\n",
            "278/278 [==============================] - 17s 62ms/step - loss: 1.3007 - accuracy: 0.6421 - val_loss: 1.2415 - val_accuracy: 0.6511\n",
            "Epoch 22/100\n",
            "278/278 [==============================] - 17s 61ms/step - loss: 1.2658 - accuracy: 0.6645 - val_loss: 1.2712 - val_accuracy: 0.6488\n",
            "Epoch 23/100\n",
            "278/278 [==============================] - 17s 61ms/step - loss: 1.2456 - accuracy: 0.6699 - val_loss: 1.2493 - val_accuracy: 0.6590\n",
            "Epoch 24/100\n",
            "278/278 [==============================] - 17s 63ms/step - loss: 1.2181 - accuracy: 0.6759 - val_loss: 1.2971 - val_accuracy: 0.6404\n",
            "Epoch 25/100\n",
            "278/278 [==============================] - 17s 63ms/step - loss: 1.1990 - accuracy: 0.6828 - val_loss: 1.2672 - val_accuracy: 0.6635\n",
            "Epoch 26/100\n",
            "278/278 [==============================] - 17s 62ms/step - loss: 1.1954 - accuracy: 0.6863 - val_loss: 1.3262 - val_accuracy: 0.6387\n",
            "Epoch 27/100\n",
            "278/278 [==============================] - 17s 62ms/step - loss: 1.1674 - accuracy: 0.6932 - val_loss: 1.2456 - val_accuracy: 0.6663\n",
            "Epoch 28/100\n",
            "278/278 [==============================] - 17s 63ms/step - loss: 1.1361 - accuracy: 0.7066 - val_loss: 1.3023 - val_accuracy: 0.6477\n",
            "Epoch 29/100\n",
            "278/278 [==============================] - 17s 62ms/step - loss: 1.1359 - accuracy: 0.7117 - val_loss: 1.2082 - val_accuracy: 0.6674\n",
            "Epoch 30/100\n",
            "278/278 [==============================] - 17s 61ms/step - loss: 1.1325 - accuracy: 0.7129 - val_loss: 1.2791 - val_accuracy: 0.6539\n",
            "Epoch 31/100\n",
            "278/278 [==============================] - 17s 62ms/step - loss: 1.0822 - accuracy: 0.7317 - val_loss: 1.2066 - val_accuracy: 0.6781\n",
            "Epoch 32/100\n",
            "278/278 [==============================] - 18s 63ms/step - loss: 1.0743 - accuracy: 0.7352 - val_loss: 1.2305 - val_accuracy: 0.6624\n",
            "Epoch 33/100\n",
            "278/278 [==============================] - 18s 63ms/step - loss: 1.0648 - accuracy: 0.7408 - val_loss: 1.1264 - val_accuracy: 0.7057\n",
            "Epoch 34/100\n",
            "278/278 [==============================] - 17s 61ms/step - loss: 1.0405 - accuracy: 0.7416 - val_loss: 1.1171 - val_accuracy: 0.7153\n",
            "Epoch 35/100\n",
            "278/278 [==============================] - 17s 63ms/step - loss: 1.0208 - accuracy: 0.7496 - val_loss: 1.2926 - val_accuracy: 0.6455\n",
            "Epoch 36/100\n",
            "278/278 [==============================] - 17s 63ms/step - loss: 0.9985 - accuracy: 0.7596 - val_loss: 1.1065 - val_accuracy: 0.7096\n",
            "Epoch 37/100\n",
            "278/278 [==============================] - 17s 63ms/step - loss: 0.9855 - accuracy: 0.7664 - val_loss: 1.1279 - val_accuracy: 0.7023\n",
            "Epoch 38/100\n",
            "278/278 [==============================] - 17s 61ms/step - loss: 0.9632 - accuracy: 0.7700 - val_loss: 1.1349 - val_accuracy: 0.6939\n",
            "Epoch 39/100\n",
            "278/278 [==============================] - 17s 61ms/step - loss: 0.9361 - accuracy: 0.7842 - val_loss: 1.0901 - val_accuracy: 0.7113\n",
            "Epoch 40/100\n",
            "278/278 [==============================] - 17s 63ms/step - loss: 0.9424 - accuracy: 0.7798 - val_loss: 1.1226 - val_accuracy: 0.6995\n",
            "Epoch 41/100\n",
            "278/278 [==============================] - 17s 63ms/step - loss: 0.9260 - accuracy: 0.7862 - val_loss: 1.0707 - val_accuracy: 0.7158\n",
            "Epoch 42/100\n",
            "278/278 [==============================] - 17s 61ms/step - loss: 0.9042 - accuracy: 0.7887 - val_loss: 1.0927 - val_accuracy: 0.7113\n",
            "Epoch 43/100\n",
            "278/278 [==============================] - 17s 63ms/step - loss: 0.8939 - accuracy: 0.7944 - val_loss: 1.1088 - val_accuracy: 0.7147\n",
            "Epoch 44/100\n",
            "278/278 [==============================] - 17s 62ms/step - loss: 0.8796 - accuracy: 0.7997 - val_loss: 1.1052 - val_accuracy: 0.7034\n",
            "Epoch 45/100\n",
            "278/278 [==============================] - 17s 63ms/step - loss: 0.8604 - accuracy: 0.8069 - val_loss: 1.0744 - val_accuracy: 0.7243\n",
            "Epoch 46/100\n",
            "278/278 [==============================] - 17s 61ms/step - loss: 0.8488 - accuracy: 0.8083 - val_loss: 1.0375 - val_accuracy: 0.7321\n",
            "Epoch 47/100\n",
            "278/278 [==============================] - 17s 61ms/step - loss: 0.8395 - accuracy: 0.8120 - val_loss: 1.0669 - val_accuracy: 0.7209\n",
            "Epoch 48/100\n",
            "278/278 [==============================] - 17s 63ms/step - loss: 0.8423 - accuracy: 0.8076 - val_loss: 1.0352 - val_accuracy: 0.7338\n",
            "Epoch 49/100\n",
            "278/278 [==============================] - 17s 63ms/step - loss: 0.8089 - accuracy: 0.8231 - val_loss: 1.0896 - val_accuracy: 0.7141\n",
            "Epoch 50/100\n",
            "278/278 [==============================] - 17s 62ms/step - loss: 0.8230 - accuracy: 0.8204 - val_loss: 1.0582 - val_accuracy: 0.7186\n",
            "Epoch 51/100\n",
            "278/278 [==============================] - 17s 62ms/step - loss: 0.7984 - accuracy: 0.8267 - val_loss: 0.9994 - val_accuracy: 0.7462\n",
            "Epoch 52/100\n",
            "278/278 [==============================] - 17s 62ms/step - loss: 0.7866 - accuracy: 0.8266 - val_loss: 0.9811 - val_accuracy: 0.7501\n",
            "Epoch 53/100\n",
            "278/278 [==============================] - 17s 62ms/step - loss: 0.7724 - accuracy: 0.8339 - val_loss: 1.0107 - val_accuracy: 0.7394\n",
            "Epoch 54/100\n",
            "278/278 [==============================] - 17s 61ms/step - loss: 0.7590 - accuracy: 0.8363 - val_loss: 1.0428 - val_accuracy: 0.7327\n",
            "Epoch 55/100\n",
            "278/278 [==============================] - 19s 69ms/step - loss: 0.7576 - accuracy: 0.8395 - val_loss: 1.0060 - val_accuracy: 0.7310\n",
            "Epoch 56/100\n",
            "278/278 [==============================] - 19s 68ms/step - loss: 0.7476 - accuracy: 0.8405 - val_loss: 0.9885 - val_accuracy: 0.7468\n",
            "Epoch 57/100\n",
            "278/278 [==============================] - 19s 67ms/step - loss: 0.7465 - accuracy: 0.8407 - val_loss: 1.0522 - val_accuracy: 0.7276\n",
            "Epoch 58/100\n",
            "278/278 [==============================] - 19s 67ms/step - loss: 0.7351 - accuracy: 0.8504 - val_loss: 1.0342 - val_accuracy: 0.7248\n",
            "Epoch 59/100\n",
            "278/278 [==============================] - 19s 67ms/step - loss: 0.7269 - accuracy: 0.8460 - val_loss: 1.0326 - val_accuracy: 0.7344\n",
            "Epoch 60/100\n",
            "278/278 [==============================] - 19s 68ms/step - loss: 0.7181 - accuracy: 0.8468 - val_loss: 0.9970 - val_accuracy: 0.7501\n",
            "Epoch 61/100\n",
            "278/278 [==============================] - 19s 68ms/step - loss: 0.6948 - accuracy: 0.8579 - val_loss: 0.9748 - val_accuracy: 0.7541\n",
            "Epoch 62/100\n",
            "278/278 [==============================] - 19s 67ms/step - loss: 0.6917 - accuracy: 0.8577 - val_loss: 0.9692 - val_accuracy: 0.7518\n",
            "Epoch 63/100\n",
            "278/278 [==============================] - 19s 68ms/step - loss: 0.6903 - accuracy: 0.8577 - val_loss: 0.9786 - val_accuracy: 0.7490\n",
            "Epoch 64/100\n",
            "278/278 [==============================] - 19s 67ms/step - loss: 0.6786 - accuracy: 0.8606 - val_loss: 0.9278 - val_accuracy: 0.7642\n",
            "Epoch 65/100\n",
            "278/278 [==============================] - 19s 67ms/step - loss: 0.6674 - accuracy: 0.8653 - val_loss: 0.9476 - val_accuracy: 0.7580\n",
            "Epoch 66/100\n",
            "278/278 [==============================] - 17s 63ms/step - loss: 0.6625 - accuracy: 0.8674 - val_loss: 0.9675 - val_accuracy: 0.7558\n",
            "Epoch 67/100\n",
            "278/278 [==============================] - 17s 61ms/step - loss: 0.6569 - accuracy: 0.8666 - val_loss: 0.9825 - val_accuracy: 0.7496\n",
            "Epoch 68/100\n",
            "278/278 [==============================] - 17s 63ms/step - loss: 0.6322 - accuracy: 0.8784 - val_loss: 0.9269 - val_accuracy: 0.7620\n",
            "Epoch 69/100\n",
            "278/278 [==============================] - 17s 62ms/step - loss: 0.6318 - accuracy: 0.8736 - val_loss: 0.9508 - val_accuracy: 0.7580\n",
            "Epoch 70/100\n",
            "278/278 [==============================] - 17s 61ms/step - loss: 0.6239 - accuracy: 0.8763 - val_loss: 0.9203 - val_accuracy: 0.7620\n",
            "Epoch 71/100\n",
            "278/278 [==============================] - 17s 62ms/step - loss: 0.6250 - accuracy: 0.8744 - val_loss: 0.9773 - val_accuracy: 0.7541\n",
            "Epoch 72/100\n",
            "278/278 [==============================] - 17s 62ms/step - loss: 0.6073 - accuracy: 0.8857 - val_loss: 0.9327 - val_accuracy: 0.7620\n",
            "Epoch 73/100\n",
            "278/278 [==============================] - 17s 62ms/step - loss: 0.6086 - accuracy: 0.8804 - val_loss: 0.9289 - val_accuracy: 0.7603\n",
            "Epoch 74/100\n",
            "278/278 [==============================] - 18s 63ms/step - loss: 0.5941 - accuracy: 0.8819 - val_loss: 0.9439 - val_accuracy: 0.7659\n",
            "Epoch 75/100\n",
            "278/278 [==============================] - 18s 64ms/step - loss: 0.5905 - accuracy: 0.8889 - val_loss: 0.9733 - val_accuracy: 0.7546\n",
            "Epoch 76/100\n",
            "278/278 [==============================] - 17s 62ms/step - loss: 0.5971 - accuracy: 0.8804 - val_loss: 0.8934 - val_accuracy: 0.7811\n",
            "Epoch 77/100\n",
            "278/278 [==============================] - 18s 64ms/step - loss: 0.5824 - accuracy: 0.8866 - val_loss: 0.8955 - val_accuracy: 0.7794\n",
            "Epoch 78/100\n",
            "278/278 [==============================] - 17s 62ms/step - loss: 0.5810 - accuracy: 0.8910 - val_loss: 0.9048 - val_accuracy: 0.7822\n",
            "Epoch 79/100\n",
            "278/278 [==============================] - 17s 62ms/step - loss: 0.5701 - accuracy: 0.8892 - val_loss: 0.9191 - val_accuracy: 0.7698\n",
            "Epoch 80/100\n",
            "278/278 [==============================] - 17s 62ms/step - loss: 0.5683 - accuracy: 0.8923 - val_loss: 0.9124 - val_accuracy: 0.7681\n",
            "Epoch 81/100\n",
            "278/278 [==============================] - 18s 63ms/step - loss: 0.5656 - accuracy: 0.8891 - val_loss: 0.9326 - val_accuracy: 0.7670\n",
            "Epoch 82/100\n",
            "278/278 [==============================] - 17s 62ms/step - loss: 0.5659 - accuracy: 0.8930 - val_loss: 0.9116 - val_accuracy: 0.7597\n",
            "Epoch 83/100\n",
            "278/278 [==============================] - 17s 63ms/step - loss: 0.5612 - accuracy: 0.8926 - val_loss: 0.9174 - val_accuracy: 0.7721\n",
            "Epoch 84/100\n",
            "278/278 [==============================] - 18s 63ms/step - loss: 0.5491 - accuracy: 0.8971 - val_loss: 0.8985 - val_accuracy: 0.7772\n",
            "Epoch 85/100\n",
            "278/278 [==============================] - 17s 62ms/step - loss: 0.5409 - accuracy: 0.8987 - val_loss: 0.9071 - val_accuracy: 0.7743\n",
            "Epoch 86/100\n",
            "278/278 [==============================] - 17s 61ms/step - loss: 0.5376 - accuracy: 0.8963 - val_loss: 0.8963 - val_accuracy: 0.7727\n",
            "Epoch 87/100\n",
            "278/278 [==============================] - 18s 63ms/step - loss: 0.5332 - accuracy: 0.8983 - val_loss: 0.8604 - val_accuracy: 0.7850\n",
            "Epoch 88/100\n",
            "278/278 [==============================] - 18s 63ms/step - loss: 0.5224 - accuracy: 0.9037 - val_loss: 0.8588 - val_accuracy: 0.7907\n",
            "Epoch 89/100\n",
            "278/278 [==============================] - 18s 64ms/step - loss: 0.5154 - accuracy: 0.9053 - val_loss: 0.8587 - val_accuracy: 0.7805\n",
            "Epoch 90/100\n",
            "278/278 [==============================] - 17s 62ms/step - loss: 0.5148 - accuracy: 0.9049 - val_loss: 0.8838 - val_accuracy: 0.7856\n",
            "Epoch 91/100\n",
            "278/278 [==============================] - 17s 62ms/step - loss: 0.5002 - accuracy: 0.9107 - val_loss: 0.8988 - val_accuracy: 0.7732\n",
            "Epoch 92/100\n",
            "278/278 [==============================] - 17s 62ms/step - loss: 0.5149 - accuracy: 0.9041 - val_loss: 0.8592 - val_accuracy: 0.7772\n",
            "Epoch 93/100\n",
            "278/278 [==============================] - 18s 64ms/step - loss: 0.5090 - accuracy: 0.9061 - val_loss: 0.8539 - val_accuracy: 0.7811\n",
            "Epoch 94/100\n",
            "278/278 [==============================] - 17s 62ms/step - loss: 0.4959 - accuracy: 0.9084 - val_loss: 0.8916 - val_accuracy: 0.7755\n",
            "Epoch 95/100\n",
            "278/278 [==============================] - 17s 62ms/step - loss: 0.4920 - accuracy: 0.9122 - val_loss: 0.9014 - val_accuracy: 0.7738\n",
            "Epoch 96/100\n",
            "278/278 [==============================] - 17s 62ms/step - loss: 0.4862 - accuracy: 0.9114 - val_loss: 0.8613 - val_accuracy: 0.7817\n",
            "Epoch 97/100\n",
            "278/278 [==============================] - 17s 62ms/step - loss: 0.4808 - accuracy: 0.9126 - val_loss: 0.8818 - val_accuracy: 0.7805\n",
            "Epoch 98/100\n",
            "278/278 [==============================] - 18s 63ms/step - loss: 0.4896 - accuracy: 0.9106 - val_loss: 0.8865 - val_accuracy: 0.7783\n",
            "Epoch 99/100\n",
            "278/278 [==============================] - 17s 62ms/step - loss: 0.4814 - accuracy: 0.9134 - val_loss: 0.8776 - val_accuracy: 0.7817\n",
            "Epoch 100/100\n",
            "278/278 [==============================] - 17s 62ms/step - loss: 0.4667 - accuracy: 0.9163 - val_loss: 0.8804 - val_accuracy: 0.7665\n"
          ]
        }
      ]
    },
    {
      "cell_type": "markdown",
      "source": [
        "## Evaluating the model"
      ],
      "metadata": {
        "id": "4hmJMuGGz2s7"
      }
    },
    {
      "cell_type": "code",
      "metadata": {
        "id": "wCtrBxUvMKrT",
        "colab": {
          "base_uri": "https://localhost:8080/",
          "height": 283
        },
        "outputId": "a399a615-e9bc-4281-807e-f72ad4af4a9e"
      },
      "source": [
        "import matplotlib.pyplot as plt\n",
        "\n",
        "plt.plot(r.history['loss'], label='loss')\n",
        "plt.plot(r.history['val_loss'], label='val_loss')\n",
        "plt.legend()\n",
        "#plt.savefig('modelA_loss.png')"
      ],
      "execution_count": null,
      "outputs": [
        {
          "output_type": "execute_result",
          "data": {
            "text/plain": [
              "<matplotlib.legend.Legend at 0x7f25f3244f10>"
            ]
          },
          "metadata": {},
          "execution_count": 26
        },
        {
          "output_type": "display_data",
          "data": {
            "text/plain": [
              "<Figure size 432x288 with 1 Axes>"
            ],
            "image/png": "[encoded data removed]"
          },
          "metadata": {
            "needs_background": "light"
          }
        }
      ]
    },
    {
      "cell_type": "code",
      "metadata": {
        "id": "-Yd_fvYXjtDn",
        "colab": {
          "base_uri": "https://localhost:8080/",
          "height": 283
        },
        "outputId": "5e591dc1-5bff-4105-eb73-e95710338bd4"
      },
      "source": [
        "# Plot accuracy per iteration\n",
        "plt.plot(r.history['accuracy'], label='acc')\n",
        "plt.plot(r.history['val_accuracy'], label='val_acc')\n",
        "plt.legend()\n",
        "#plt.savefig('modelA_acc.png')"
      ],
      "execution_count": null,
      "outputs": [
        {
          "output_type": "execute_result",
          "data": {
            "text/plain": [
              "<matplotlib.legend.Legend at 0x7f25f3625490>"
            ]
          },
          "metadata": {},
          "execution_count": 27
        },
        {
          "output_type": "display_data",
          "data": {
            "text/plain": [
              "<Figure size 432x288 with 1 Axes>"
            ],
            "image/png": "[encoded data removed]"
          },
          "metadata": {
            "needs_background": "light"
          }
        }
      ]
    },
    {
      "cell_type": "code",
      "source": [
        "model.summary()"
      ],
      "metadata": {
        "colab": {
          "base_uri": "https://localhost:8080/"
        },
        "id": "WBvSx65RS0ki",
        "outputId": "0f67c35c-a6e9-474f-c76f-7f5273bebd94"
      },
      "execution_count": null,
      "outputs": [
        {
          "output_type": "stream",
          "name": "stdout",
          "text": [
            "Model: \"model\"\n",
            "_________________________________________________________________\n",
            " Layer (type)                Output Shape              Param #   \n",
            "=================================================================\n",
            " input_1 (InputLayer)        [(None, 30, 173, 1)]      0         \n",
            "                                                                 \n",
            " conv2d (Conv2D)             (None, 30, 173, 64)       1664      \n",
            "                                                                 \n",
            " batch_normalization (BatchN  (None, 30, 173, 64)      256       \n",
            " ormalization)                                                   \n",
            "                                                                 \n",
            " max_pooling2d (MaxPooling2D  (None, 15, 86, 64)       0         \n",
            " )                                                               \n",
            "                                                                 \n",
            " dropout (Dropout)           (None, 15, 86, 64)        0         \n",
            "                                                                 \n",
            " conv2d_1 (Conv2D)           (None, 15, 86, 128)       204928    \n",
            "                                                                 \n",
            " batch_normalization_1 (Batc  (None, 15, 86, 128)      512       \n",
            " hNormalization)                                                 \n",
            "                                                                 \n",
            " max_pooling2d_1 (MaxPooling  (None, 7, 43, 128)       0         \n",
            " 2D)                                                             \n",
            "                                                                 \n",
            " dropout_1 (Dropout)         (None, 7, 43, 128)        0         \n",
            "                                                                 \n",
            " conv2d_2 (Conv2D)           (None, 7, 43, 128)        147584    \n",
            "                                                                 \n",
            " batch_normalization_2 (Batc  (None, 7, 43, 128)       512       \n",
            " hNormalization)                                                 \n",
            "                                                                 \n",
            " max_pooling2d_2 (MaxPooling  (None, 3, 21, 128)       0         \n",
            " 2D)                                                             \n",
            "                                                                 \n",
            " dropout_2 (Dropout)         (None, 3, 21, 128)        0         \n",
            "                                                                 \n",
            " conv2d_3 (Conv2D)           (None, 3, 21, 256)        295168    \n",
            "                                                                 \n",
            " batch_normalization_3 (Batc  (None, 3, 21, 256)       1024      \n",
            " hNormalization)                                                 \n",
            "                                                                 \n",
            " max_pooling2d_3 (MaxPooling  (None, 1, 10, 256)       0         \n",
            " 2D)                                                             \n",
            "                                                                 \n",
            " dropout_3 (Dropout)         (None, 1, 10, 256)        0         \n",
            "                                                                 \n",
            " gaussian_noise (GaussianNoi  (None, 1, 10, 256)       0         \n",
            " se)                                                             \n",
            "                                                                 \n",
            " flatten (Flatten)           (None, 2560)              0         \n",
            "                                                                 \n",
            " dropout_4 (Dropout)         (None, 2560)              0         \n",
            "                                                                 \n",
            " dense (Dense)               (None, 256)               655616    \n",
            "                                                                 \n",
            " dropout_5 (Dropout)         (None, 256)               0         \n",
            "                                                                 \n",
            " batch_normalization_4 (Batc  (None, 256)              1024      \n",
            " hNormalization)                                                 \n",
            "                                                                 \n",
            " dense_1 (Dense)             (None, 7)                 1799      \n",
            "                                                                 \n",
            "=================================================================\n",
            "Total params: 1,310,087\n",
            "Trainable params: 1,308,423\n",
            "Non-trainable params: 1,664\n",
            "_________________________________________________________________\n"
          ]
        }
      ]
    },
    {
      "cell_type": "code",
      "source": [
        "score = model.evaluate(X_test, y_test, verbose=1)\n",
        "print(\"%s: %.2f%%\" % (model.metrics_names[1], score[1]*100))"
      ],
      "metadata": {
        "colab": {
          "base_uri": "https://localhost:8080/"
        },
        "id": "G12wn3syS3Lh",
        "outputId": "94a37526-0cbf-4c04-face-0eea91ee1133"
      },
      "execution_count": null,
      "outputs": [
        {
          "output_type": "stream",
          "name": "stdout",
          "text": [
            "56/56 [==============================] - 1s 21ms/step - loss: 0.8804 - accuracy: 0.7665\n",
            "accuracy: 76.65%\n"
          ]
        }
      ]
    },
    {
      "cell_type": "markdown",
      "source": [
        "## Saving the model"
      ],
      "metadata": {
        "id": "E660lB67z9Yb"
      }
    },
    {
      "cell_type": "code",
      "metadata": {
        "id": "w6G3RpEejypU",
        "colab": {
          "base_uri": "https://localhost:8080/"
        },
        "outputId": "4aa874b5-83c7-41d6-ad33-f56c3d5f54f2"
      },
      "source": [
        "model_name = 'prototype2_ravdess.h5'\n",
        "save_dir = os.path.join(os.getcwd(), 'saved_models')\n",
        "\n",
        "print(save_dir)\n",
        "\n",
        "if not os.path.exists(save_dir):\n",
        "    os.makedirs(save_dir)\n",
        "\n",
        "model_path = os.path.join(save_dir, model_name)\n",
        "model.save(model_path)\n",
        "\n",
        "model_json = model.to_json()\n",
        "with open(\"prototype2_ravdess.json\", \"w\") as json_file:\n",
        "    json_file.write(model_json)"
      ],
      "execution_count": null,
      "outputs": [
        {
          "output_type": "stream",
          "name": "stdout",
          "text": [
            "/content/saved_models\n"
          ]
        }
      ]
    },
    {
      "cell_type": "markdown",
      "source": [
        "## Loading the model"
      ],
      "metadata": {
        "id": "576TYEMz0A0F"
      }
    },
    {
      "cell_type": "code",
      "metadata": {
        "id": "V4cGFm1w6H1-",
        "colab": {
          "base_uri": "https://localhost:8080/"
        },
        "outputId": "68c3d4c7-ba89-4bbb-f1ff-149c541db252"
      },
      "source": [
        "from tensorflow.keras.models import model_from_json\n",
        "\n",
        "json_file = open('prototype2_ravdess.json', 'r')\n",
        "loaded_model_json = json_file.read()\n",
        "json_file.close()\n",
        "loaded_model = model_from_json(loaded_model_json)\n",
        "\n",
        "# load weights into new model\n",
        "loaded_model.load_weights(\"saved_models/prototype2_ravdess.h5\")\n",
        "loaded_model.summary()\n",
        "\n",
        "# Keras optimizer\n",
        "opt = tf.keras.optimizers.Adagrad(learning_rate=0.005, epsilon=1e-07) #Adam(learning_rate = lr_scheduler) #\n",
        "loaded_model.compile(optimizer=opt, loss='categorical_crossentropy', metrics=['accuracy'])\n",
        "score = loaded_model.evaluate(X_test, y_test, verbose=0)\n",
        "print(\"%s: %.2f%%\" % (loaded_model.metrics_names[1], score[1]*100))"
      ],
      "execution_count": null,
      "outputs": [
        {
          "output_type": "stream",
          "name": "stdout",
          "text": [
            "Model: \"model\"\n",
            "_________________________________________________________________\n",
            " Layer (type)                Output Shape              Param #   \n",
            "=================================================================\n",
            " input_1 (InputLayer)        [(None, 30, 173, 1)]      0         \n",
            "                                                                 \n",
            " conv2d (Conv2D)             (None, 30, 173, 64)       1664      \n",
            "                                                                 \n",
            " batch_normalization (BatchN  (None, 30, 173, 64)      256       \n",
            " ormalization)                                                   \n",
            "                                                                 \n",
            " max_pooling2d (MaxPooling2D  (None, 15, 86, 64)       0         \n",
            " )                                                               \n",
            "                                                                 \n",
            " dropout (Dropout)           (None, 15, 86, 64)        0         \n",
            "                                                                 \n",
            " conv2d_1 (Conv2D)           (None, 15, 86, 128)       204928    \n",
            "                                                                 \n",
            " batch_normalization_1 (Batc  (None, 15, 86, 128)      512       \n",
            " hNormalization)                                                 \n",
            "                                                                 \n",
            " max_pooling2d_1 (MaxPooling  (None, 7, 43, 128)       0         \n",
            " 2D)                                                             \n",
            "                                                                 \n",
            " dropout_1 (Dropout)         (None, 7, 43, 128)        0         \n",
            "                                                                 \n",
            " conv2d_2 (Conv2D)           (None, 7, 43, 128)        147584    \n",
            "                                                                 \n",
            " batch_normalization_2 (Batc  (None, 7, 43, 128)       512       \n",
            " hNormalization)                                                 \n",
            "                                                                 \n",
            " max_pooling2d_2 (MaxPooling  (None, 3, 21, 128)       0         \n",
            " 2D)                                                             \n",
            "                                                                 \n",
            " dropout_2 (Dropout)         (None, 3, 21, 128)        0         \n",
            "                                                                 \n",
            " conv2d_3 (Conv2D)           (None, 3, 21, 256)        295168    \n",
            "                                                                 \n",
            " batch_normalization_3 (Batc  (None, 3, 21, 256)       1024      \n",
            " hNormalization)                                                 \n",
            "                                                                 \n",
            " max_pooling2d_3 (MaxPooling  (None, 1, 10, 256)       0         \n",
            " 2D)                                                             \n",
            "                                                                 \n",
            " dropout_3 (Dropout)         (None, 1, 10, 256)        0         \n",
            "                                                                 \n",
            " gaussian_noise (GaussianNoi  (None, 1, 10, 256)       0         \n",
            " se)                                                             \n",
            "                                                                 \n",
            " flatten (Flatten)           (None, 2560)              0         \n",
            "                                                                 \n",
            " dropout_4 (Dropout)         (None, 2560)              0         \n",
            "                                                                 \n",
            " dense (Dense)               (None, 256)               655616    \n",
            "                                                                 \n",
            " dropout_5 (Dropout)         (None, 256)               0         \n",
            "                                                                 \n",
            " batch_normalization_4 (Batc  (None, 256)              1024      \n",
            " hNormalization)                                                 \n",
            "                                                                 \n",
            " dense_1 (Dense)             (None, 7)                 1799      \n",
            "                                                                 \n",
            "=================================================================\n",
            "Total params: 1,310,087\n",
            "Trainable params: 1,308,423\n",
            "Non-trainable params: 1,664\n",
            "_________________________________________________________________\n"
          ]
        },
        {
          "output_type": "stream",
          "name": "stderr",
          "text": [
            "/usr/local/lib/python3.7/dist-packages/tensorflow/python/data/ops/structured_function.py:265: UserWarning: Even though the `tf.config.experimental_run_functions_eagerly` option is set, this option does not apply to tf.data functions. To force eager execution of tf.data functions, please use `tf.data.experimental.enable_debug_mode()`.\n",
            "  \"Even though the `tf.config.experimental_run_functions_eagerly` \"\n"
          ]
        },
        {
          "output_type": "stream",
          "name": "stdout",
          "text": [
            "accuracy: 75.58%\n"
          ]
        }
      ]
    },
    {
      "cell_type": "code",
      "source": [
        "# another option without JSON\n",
        "\n",
        "model = tf.keras.models.load_model('saved_models/prototype2_ravdess.h5')\n",
        "model.summary()\n",
        "\n",
        "opt = tf.keras.optimizers.Adagrad(learning_rate=0.005, epsilon=1e-07) #Adam(learning_rate = lr_scheduler) #\n",
        "model.compile(optimizer=opt, loss='categorical_crossentropy', metrics=['accuracy'])\n",
        "score = model.evaluate(X_test, y_test, verbose=0)\n",
        "print(\"%s: %.2f%%\" % (model.metrics_names[1], score[1]*100))"
      ],
      "metadata": {
        "id": "3lE4ucWAaveg"
      },
      "execution_count": null,
      "outputs": []
    },
    {
      "cell_type": "markdown",
      "source": [
        "### Confusion matrix"
      ],
      "metadata": {
        "id": "OH2ZKmSIracZ"
      }
    },
    {
      "cell_type": "code",
      "source": [
        "preds = model.predict(X_test, \n",
        "                      batch_size=32, \n",
        "                      verbose=1)\n",
        "\n",
        "preds=preds.argmax(axis=1)\n",
        "preds"
      ],
      "metadata": {
        "colab": {
          "base_uri": "https://localhost:8080/"
        },
        "id": "dhwPrkRlr5-6",
        "outputId": "05f589cf-9cd2-45e9-e318-3b5045ac800e"
      },
      "execution_count": null,
      "outputs": [
        {
          "output_type": "stream",
          "name": "stdout",
          "text": [
            "56/56 [==============================] - 1s 16ms/step\n"
          ]
        },
        {
          "output_type": "execute_result",
          "data": {
            "text/plain": [
              "array([5, 5, 1, ..., 4, 5, 0])"
            ]
          },
          "metadata": {},
          "execution_count": 41
        }
      ]
    },
    {
      "cell_type": "code",
      "source": [
        "preds = preds.astype(int).flatten()\n",
        "preds = (lb.inverse_transform((preds)))\n",
        "preds = pd.DataFrame({'predictedvalues': preds})\n",
        "\n",
        "# Actual labels\n",
        "actual= y_test.argmax(axis=1)\n",
        "actual = actual.astype(int).flatten()\n",
        "actual = (lb.inverse_transform((actual)))\n",
        "actual = pd.DataFrame({'actualvalues': actual})\n",
        "\n",
        "finaldf = actual.join(preds)\n",
        "finaldf.head()"
      ],
      "metadata": {
        "colab": {
          "base_uri": "https://localhost:8080/",
          "height": 206
        },
        "id": "XyWDAl59sH-o",
        "outputId": "fd718c45-f712-4b4e-b68e-b6d3f00c9bb0"
      },
      "execution_count": null,
      "outputs": [
        {
          "output_type": "execute_result",
          "data": {
            "text/plain": [
              "  actualvalues predictedvalues\n",
              "0         fear         sadness\n",
              "1         fear         sadness\n",
              "2      disgust         disgust\n",
              "3     surprise        surprise\n",
              "4         fear           anger"
            ],
            "text/html": [
              "\n",
              "  <div id=\"df-d4df2282-bb8c-4c6c-87b5-a20808d1063c\">\n",
              "    <div class=\"colab-df-container\">\n",
              "      <div>\n",
              "<style scoped>\n",
              "    .dataframe tbody tr th:only-of-type {\n",
              "        vertical-align: middle;\n",
              "    }\n",
              "\n",
              "    .dataframe tbody tr th {\n",
              "        vertical-align: top;\n",
              "    }\n",
              "\n",
              "    .dataframe thead th {\n",
              "        text-align: right;\n",
              "    }\n",
              "</style>\n",
              "<table border=\"1\" class=\"dataframe\">\n",
              "  <thead>\n",
              "    <tr style=\"text-align: right;\">\n",
              "      <th></th>\n",
              "      <th>actualvalues</th>\n",
              "      <th>predictedvalues</th>\n",
              "    </tr>\n",
              "  </thead>\n",
              "  <tbody>\n",
              "    <tr>\n",
              "      <th>0</th>\n",
              "      <td>fear</td>\n",
              "      <td>sadness</td>\n",
              "    </tr>\n",
              "    <tr>\n",
              "      <th>1</th>\n",
              "      <td>fear</td>\n",
              "      <td>sadness</td>\n",
              "    </tr>\n",
              "    <tr>\n",
              "      <th>2</th>\n",
              "      <td>disgust</td>\n",
              "      <td>disgust</td>\n",
              "    </tr>\n",
              "    <tr>\n",
              "      <th>3</th>\n",
              "      <td>surprise</td>\n",
              "      <td>surprise</td>\n",
              "    </tr>\n",
              "    <tr>\n",
              "      <th>4</th>\n",
              "      <td>fear</td>\n",
              "      <td>anger</td>\n",
              "    </tr>\n",
              "  </tbody>\n",
              "</table>\n",
              "</div>\n",
              "      <button class=\"colab-df-convert\" onclick=\"convertToInteractive('df-d4df2282-bb8c-4c6c-87b5-a20808d1063c')\"\n",
              "              title=\"Convert this dataframe to an interactive table.\"\n",
              "              style=\"display:none;\">\n",
              "        \n",
              "  <svg xmlns=\"http://www.w3.org/2000/svg\" height=\"24px\"viewBox=\"0 0 24 24\"\n",
              "       width=\"24px\">\n",
              "    <path d=\"M0 0h24v24H0V0z\" fill=\"none\"/>\n",
              "    <path d=\"M18.56 5.44l.94 2.06.94-2.06 2.06-.94-2.06-.94-.94-2.06-.94 2.06-2.06.94zm-11 1L8.5 8.5l.94-2.06 2.06-.94-2.06-.94L8.5 2.5l-.94 2.06-2.06.94zm10 10l.94 2.06.94-2.06 2.06-.94-2.06-.94-.94-2.06-.94 2.06-2.06.94z\"/><path d=\"M17.41 7.96l-1.37-1.37c-.4-.4-.92-.59-1.43-.59-.52 0-1.04.2-1.43.59L10.3 9.45l-7.72 7.72c-.78.78-.78 2.05 0 2.83L4 21.41c.39.39.9.59 1.41.59.51 0 1.02-.2 1.41-.59l7.78-7.78 2.81-2.81c.8-.78.8-2.07 0-2.86zM5.41 20L4 18.59l7.72-7.72 1.47 1.35L5.41 20z\"/>\n",
              "  </svg>\n",
              "      </button>\n",
              "      \n",
              "  <style>\n",
              "    .colab-df-container {\n",
              "      display:flex;\n",
              "      flex-wrap:wrap;\n",
              "      gap: 12px;\n",
              "    }\n",
              "\n",
              "    .colab-df-convert {\n",
              "      background-color: #E8F0FE;\n",
              "      border: none;\n",
              "      border-radius: 50%;\n",
              "      cursor: pointer;\n",
              "      display: none;\n",
              "      fill: #1967D2;\n",
              "      height: 32px;\n",
              "      padding: 0 0 0 0;\n",
              "      width: 32px;\n",
              "    }\n",
              "\n",
              "    .colab-df-convert:hover {\n",
              "      background-color: #E2EBFA;\n",
              "      box-shadow: 0px 1px 2px rgba(60, 64, 67, 0.3), 0px 1px 3px 1px rgba(60, 64, 67, 0.15);\n",
              "      fill: #174EA6;\n",
              "    }\n",
              "\n",
              "    [theme=dark] .colab-df-convert {\n",
              "      background-color: #3B4455;\n",
              "      fill: #D2E3FC;\n",
              "    }\n",
              "\n",
              "    [theme=dark] .colab-df-convert:hover {\n",
              "      background-color: #434B5C;\n",
              "      box-shadow: 0px 1px 3px 1px rgba(0, 0, 0, 0.15);\n",
              "      filter: drop-shadow(0px 1px 2px rgba(0, 0, 0, 0.3));\n",
              "      fill: #FFFFFF;\n",
              "    }\n",
              "  </style>\n",
              "\n",
              "      <script>\n",
              "        const buttonEl =\n",
              "          document.querySelector('#df-d4df2282-bb8c-4c6c-87b5-a20808d1063c button.colab-df-convert');\n",
              "        buttonEl.style.display =\n",
              "          google.colab.kernel.accessAllowed ? 'block' : 'none';\n",
              "\n",
              "        async function convertToInteractive(key) {\n",
              "          const element = document.querySelector('#df-d4df2282-bb8c-4c6c-87b5-a20808d1063c');\n",
              "          const dataTable =\n",
              "            await google.colab.kernel.invokeFunction('convertToInteractive',\n",
              "                                                     [key], {});\n",
              "          if (!dataTable) return;\n",
              "\n",
              "          const docLinkHtml = 'Like what you see? Visit the ' +\n",
              "            '<a target=\"_blank\" href=https://colab.research.google.com/notebooks/data_table.ipynb>data table notebook</a>'\n",
              "            + ' to learn more about interactive tables.';\n",
              "          element.innerHTML = '';\n",
              "          dataTable['output_type'] = 'display_data';\n",
              "          await google.colab.output.renderOutput(dataTable, element);\n",
              "          const docLink = document.createElement('div');\n",
              "          docLink.innerHTML = docLinkHtml;\n",
              "          element.appendChild(docLink);\n",
              "        }\n",
              "      </script>\n",
              "    </div>\n",
              "  </div>\n",
              "  "
            ]
          },
          "metadata": {},
          "execution_count": 42
        }
      ]
    },
    {
      "cell_type": "code",
      "source": [
        "import seaborn as sns\n",
        "from sklearn.metrics import confusion_matrix\n",
        "\n",
        "def print_confusion_matrix(confusion_matrix, class_names, figsize = (10,7), fontsize=14):\n",
        "    df_cm = pd.DataFrame(\n",
        "        confusion_matrix, index=class_names, columns=class_names, \n",
        "    )\n",
        "    fig = plt.figure(figsize=figsize)\n",
        "    try:\n",
        "        heatmap = sns.heatmap(df_cm, annot=True, fmt=\"d\")\n",
        "    except ValueError:\n",
        "        raise ValueError(\"Confusion matrix values must be integers.\")\n",
        "        \n",
        "    heatmap.yaxis.set_ticklabels(heatmap.yaxis.get_ticklabels(), rotation=0, ha='right', fontsize=fontsize)\n",
        "    heatmap.xaxis.set_ticklabels(heatmap.xaxis.get_ticklabels(), rotation=45, ha='right', fontsize=fontsize)\n",
        "    plt.ylabel('True label')\n",
        "    plt.xlabel('Predicted label')"
      ],
      "metadata": {
        "id": "W7PK0MYnrc-B"
      },
      "execution_count": null,
      "outputs": []
    },
    {
      "cell_type": "code",
      "source": [
        "from sklearn.metrics import confusion_matrix\n",
        "\n",
        "classes = finaldf.actualvalues.unique()\n",
        "classes.sort()    \n",
        "\n",
        "# Print confusion matrix \n",
        "c = confusion_matrix(finaldf.actualvalues, finaldf.predictedvalues)\n",
        "print_confusion_matrix(c, class_names = classes)"
      ],
      "metadata": {
        "colab": {
          "base_uri": "https://localhost:8080/",
          "height": 493
        },
        "id": "BOkhzjECtViB",
        "outputId": "a6fd4ea9-7fea-4b69-8784-1033d580c31e"
      },
      "execution_count": null,
      "outputs": [
        {
          "output_type": "display_data",
          "data": {
            "text/plain": [
              "<Figure size 720x504 with 2 Axes>"
            ],
            "image/png": "[encoded data removed]"
          },
          "metadata": {
            "needs_background": "light"
          }
        }
      ]
    },
    {
      "cell_type": "markdown",
      "source": [
        "## Testing a sample audio"
      ],
      "metadata": {
        "id": "LDud8Zgi0HNp"
      }
    },
    {
      "cell_type": "code",
      "metadata": {
        "id": "7KCa_cMtxFtV",
        "colab": {
          "base_uri": "https://localhost:8080/"
        },
        "outputId": "80fd976a-f987-45a6-efb4-3e6c332bb629"
      },
      "source": [
        "sample_file = '/content/dataset/AudioWAV/1002_IWL_FEA_XX.wav'\n",
        "\n",
        "n_mfcc = 30\n",
        "sampling_rate = 44100\n",
        "audio_duration = 2.0\n",
        "\n",
        "input_len = sampling_rate * audio_duration\n",
        "\n",
        "data, sr = librosa.load(sample_file, sr = 44100, duration= 2.0, offset=0.5)\n",
        "\n",
        "if len(data) > input_len:\n",
        "    max_offset = len(data) - input_len\n",
        "    offset = np.random.randint(max_offset)\n",
        "    data = data[offset:(input_len + offset)]\n",
        "else:\n",
        "    if input_len > len(data):\n",
        "        max_offset = input_len - len(data)\n",
        "        offset = np.random.randint(max_offset)\n",
        "    else:\n",
        "        offset = 0\n",
        "    data = np.pad(data, (offset, int(input_len) - len(data) - offset), 'constant')\n",
        "\n",
        "mfcc = librosa.feature.mfcc(data, sr=sampling_rate, n_mfcc=30)\n",
        "mfcc_std = (mfcc - mean) / std\n",
        "mfcc_exp = np.expand_dims(mfcc_std, axis=(0, -1))\n",
        "print(mfcc_exp.shape)"
      ],
      "execution_count": null,
      "outputs": [
        {
          "output_type": "stream",
          "name": "stdout",
          "text": [
            "(1, 30, 173, 1)\n"
          ]
        }
      ]
    },
    {
      "cell_type": "code",
      "metadata": {
        "id": "nhtJ7OLiPooy",
        "colab": {
          "base_uri": "https://localhost:8080/"
        },
        "outputId": "7917436e-b1ab-4deb-896b-32e2fd2b79d8"
      },
      "source": [
        "# get single prediction\n",
        "result = np.argmax(loaded_model.predict(mfcc_exp), axis=1).astype(int).flatten()\n",
        "print(result)\n",
        "print(lb.inverse_transform(result))"
      ],
      "execution_count": null,
      "outputs": [
        {
          "output_type": "stream",
          "name": "stdout",
          "text": [
            "[2]\n",
            "['fear']\n"
          ]
        }
      ]
    },
    {
      "cell_type": "markdown",
      "source": [
        "### Testing average time of each execution (histogram)"
      ],
      "metadata": {
        "id": "9359KRB9Di-K"
      }
    },
    {
      "cell_type": "code",
      "source": [
        "# get gaussian distribution (WITHOUT PREPROCESSING)\n",
        "import numpy as np\n",
        "import matplotlib.pyplot as plt\n",
        "import scipy.stats as stats\n",
        "from time import perf_counter\n",
        "\n",
        "model = tf.keras.models.load_model('saved_models/prototype2_ravdess.h5')\n",
        "\n",
        "times = []\n",
        "for i in range(100):\n",
        "  start = perf_counter()\n",
        "  model.predict(mfcc_exp)\n",
        "  end = perf_counter()\n",
        "  times.append(end - start)\n",
        "\n",
        "times = np.array(times) * 1000  # miliseconds\n",
        "mean = times.mean()\n",
        "std = times.std()\n",
        "\n",
        "print('-------------')\n",
        "print('Mean: ', mean, 'ms')\n",
        "print('Std: ', std, 'ms')\n",
        "print('Skewness: ', stats.skew(times))\n",
        "print('-------------')\n",
        "\n",
        "n, bins, patches = plt.hist(x=times, bins='auto', color='#0504aa', rwidth=0.85)\n",
        "plt.grid(axis='y', alpha=0.75)\n",
        "plt.xlabel('Miliseconds')\n",
        "plt.ylabel('Frequency')\n",
        "\n",
        "#   skewness = 0 : normally distributed.\n",
        "#   skewness > 0 : more weight in the left tail of the distribution.\n",
        "#   skewness < 0 : more weight in the right tail of the distribution."
      ],
      "metadata": {
        "colab": {
          "base_uri": "https://localhost:8080/",
          "height": 387
        },
        "id": "FQcornWa5-AI",
        "outputId": "7206b1a0-7936-49e9-fd0b-63154f528001"
      },
      "execution_count": null,
      "outputs": [
        {
          "output_type": "stream",
          "name": "stdout",
          "text": [
            "-------------\n",
            "Mean:  49.067532840026615 ms\n",
            "Std:  13.61644636124419 ms\n",
            "Skewness:  8.496838935492407\n",
            "-------------\n"
          ]
        },
        {
          "output_type": "execute_result",
          "data": {
            "text/plain": [
              "Text(0, 0.5, 'Frequency')"
            ]
          },
          "metadata": {},
          "execution_count": 43
        },
        {
          "output_type": "display_data",
          "data": {
            "text/plain": [
              "<Figure size 432x288 with 1 Axes>"
            ],
            "image/png": "[encoded data removed]"
          },
          "metadata": {
            "needs_background": "light"
          }
        }
      ]
    },
    {
      "cell_type": "markdown",
      "source": [
        "### Testing average time WITH PREPROCESSING of the data"
      ],
      "metadata": {
        "id": "HPKa9uOJDqkF"
      }
    },
    {
      "cell_type": "code",
      "source": [
        "def preprocessing_sample():\n",
        "  sample_file = '/content/dataset/AudioWAV/1002_IWL_FEA_XX.wav'\n",
        "\n",
        "  n_mfcc = 30\n",
        "  sampling_rate = 44100\n",
        "  audio_duration = 2.0\n",
        "\n",
        "  input_len = sampling_rate * audio_duration\n",
        "\n",
        "  data, sr = librosa.load(sample_file, sr = 44100, duration= 2.0, offset=0.5)\n",
        "\n",
        "  if len(data) > input_len:\n",
        "      max_offset = len(data) - input_len\n",
        "      offset = np.random.randint(max_offset)\n",
        "      data = data[offset:(input_len + offset)]\n",
        "  else:\n",
        "      if input_len > len(data):\n",
        "          max_offset = input_len - len(data)\n",
        "          offset = np.random.randint(max_offset)\n",
        "      else:\n",
        "          offset = 0\n",
        "      data = np.pad(data, (offset, int(input_len) - len(data) - offset), 'constant')\n",
        "\n",
        "  mfcc = librosa.feature.mfcc(data, sr=sampling_rate, n_mfcc=30)\n",
        "  mfcc_std = (mfcc - mean) / std\n",
        "  mfcc_exp = np.expand_dims(mfcc_std, axis=(0, -1))\n",
        "  \n",
        "  return mfcc_exp"
      ],
      "metadata": {
        "id": "8mGJGxX9AqQj"
      },
      "execution_count": null,
      "outputs": []
    },
    {
      "cell_type": "code",
      "source": [
        "# get gaussian distribution\n",
        "import matplotlib.pyplot as plt\n",
        "import scipy.stats as stats\n",
        "from time import perf_counter\n",
        "\n",
        "model = tf.keras.models.load_model('saved_models/prototype2_ravdess.h5')\n",
        "\n",
        "times = []\n",
        "for i in range(100):\n",
        "  start = perf_counter()\n",
        "  mfcc_exp = preprocessing_sample()\n",
        "  model.predict(mfcc_exp)\n",
        "  end = perf_counter()\n",
        "  times.append(end - start)\n",
        "\n",
        "times = np.array(times) * 1000  # miliseconds\n",
        "mean = times.mean()\n",
        "std = times.std()\n",
        "\n",
        "print('-------------')\n",
        "print('Mean: ', mean, 'ms')\n",
        "print('Std: ', std, 'ms')\n",
        "print('Skewness: ', stats.skew(times))\n",
        "print('-------------')\n",
        "\n",
        "n, bins, patches = plt.hist(x=times, bins='auto', color='#0504aa', rwidth=0.85)\n",
        "plt.grid(axis='y', alpha=0.75)\n",
        "plt.xlabel('Miliseconds')\n",
        "plt.ylabel('Frequency')\n",
        "\n",
        "#   skewness = 0 : normally distributed.\n",
        "#   skewness > 0 : more weight in the left tail of the distribution.\n",
        "#   skewness < 0 : more weight in the right tail of the distribution."
      ],
      "metadata": {
        "colab": {
          "base_uri": "https://localhost:8080/",
          "height": 387
        },
        "outputId": "4816b5f2-90db-4c4f-ebb7-ceaaeb63478e",
        "id": "NDKOqWucDTno"
      },
      "execution_count": null,
      "outputs": [
        {
          "output_type": "stream",
          "name": "stdout",
          "text": [
            "-------------\n",
            "Mean:  308.52456587996585 ms\n",
            "Std:  133.89698532614779 ms\n",
            "Skewness:  3.3552552286550505\n",
            "-------------\n"
          ]
        },
        {
          "output_type": "execute_result",
          "data": {
            "text/plain": [
              "Text(0, 0.5, 'Frequency')"
            ]
          },
          "metadata": {},
          "execution_count": 45
        },
        {
          "output_type": "display_data",
          "data": {
            "text/plain": [
              "<Figure size 432x288 with 1 Axes>"
            ],
            "image/png": "[encoded data removed]"
          },
          "metadata": {
            "needs_background": "light"
          }
        }
      ]
    },
    {
      "cell_type": "markdown",
      "source": [
        "## Test training time\n",
        "\n",
        "> Training with the TensorBoard callback needed beforehand to generate the logs"
      ],
      "metadata": {
        "id": "Sy2_KixW1tE-"
      }
    },
    {
      "cell_type": "code",
      "source": [
        "!pip install -U tensorboard-plugin-profile"
      ],
      "metadata": {
        "id": "iwD2zmwC_ujn"
      },
      "execution_count": null,
      "outputs": []
    },
    {
      "cell_type": "code",
      "source": [
        "%load_ext tensorboard"
      ],
      "metadata": {
        "id": "wuEtxdMi1rjU"
      },
      "execution_count": null,
      "outputs": []
    },
    {
      "cell_type": "code",
      "source": [
        "%tensorboard --logdir=logs"
      ],
      "metadata": {
        "id": "wE0FQRB012_Y"
      },
      "execution_count": null,
      "outputs": []
    }
  ]
}